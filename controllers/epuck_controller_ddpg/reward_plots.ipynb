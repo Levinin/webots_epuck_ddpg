{
 "cells": [
  {
   "cell_type": "code",
   "execution_count": 1,
   "metadata": {
    "collapsed": true,
    "ExecuteTime": {
     "end_time": "2023-08-18T05:23:12.968765178Z",
     "start_time": "2023-08-18T05:23:12.964565009Z"
    }
   },
   "outputs": [],
   "source": [
    "import sqlite3\n",
    "import matplotlib.pyplot as plt\n",
    "import numpy as np\n",
    "import pandas as pd\n",
    "from scipy.stats import mannwhitneyu, ttest_ind\n",
    "\n",
    "import normalise_rewards as nr"
   ]
  },
  {
   "cell_type": "code",
   "execution_count": 2,
   "outputs": [],
   "source": [
    "# Create a SQL connection to our SQLite database\n",
    "con = sqlite3.connect(\"../logs/data_logs.db\")\n",
    "cur = con.cursor()"
   ],
   "metadata": {
    "collapsed": false,
    "ExecuteTime": {
     "end_time": "2023-08-18T05:23:12.975473355Z",
     "start_time": "2023-08-18T05:23:12.970735707Z"
    }
   }
  },
  {
   "cell_type": "code",
   "execution_count": null,
   "outputs": [],
   "source": [
    "# Get a list of unique run_id values\n",
    "cur.execute(\"SELECT DISTINCT run_id FROM agent_data\")\n",
    "run_ids = cur.fetchall()\n",
    "print(run_ids)\n",
    "print(f\"There are currently {len(run_ids)} unique run_id values in the database.\")"
   ],
   "metadata": {
    "collapsed": false
   }
  },
  {
   "cell_type": "code",
   "execution_count": 14,
   "outputs": [],
   "source": [
    "# Put the ID of the run you want to analyse here\n",
    "run_id = ''"
   ],
   "metadata": {
    "collapsed": false,
    "ExecuteTime": {
     "end_time": "2023-08-15T14:16:27.723636887Z",
     "start_time": "2023-08-15T14:16:27.578155898Z"
    }
   }
  },
  {
   "cell_type": "code",
   "execution_count": null,
   "outputs": [],
   "source": [
    "cur.execute(f\"SELECT AVG(step_reward), episode, MAX(goal_achieved) FROM agent_data WHERE run_id = '{run_id}' GROUP BY episode;\")\n",
    "episode_rewards = cur.fetchall()\n",
    "x = [row[1] for row in episode_rewards]\n",
    "y = [row[0] for row in episode_rewards]\n",
    "y2 = [0.9 if row[2] else 0.0 for row in episode_rewards]\n",
    "\n",
    "idx_y3 = np.argmax(y)\n",
    "\n",
    "plt.figure(figsize=(14,5))\n",
    "plt.plot(x,y)\n",
    "plt.scatter(x,y2, s=1, color=\"red\")\n",
    "plt.scatter(x[idx_y3], y[idx_y3], s=20, color=\"green\")\n",
    "\n",
    "plt.title(f\"Episode Rewards\\n\"\n",
    "          f\"{run_id}\")\n",
    "plt.xlabel(\"Episode\")\n",
    "plt.ylabel(\"Reward\")\n",
    "plt.legend([\"Reward\", \"Succeed/Fail\", f\"Max Reward: Episode {x[idx_y3]}\"])\n",
    "plt.show()\n",
    "\n",
    "print(f\"The total number of passing episodes is : {int(np.sum(y2)/0.9)}, {round(int(np.sum(y2)/0.9)/len(y2)*100,2)}%\")"
   ],
   "metadata": {
    "collapsed": false
   }
  },
  {
   "cell_type": "code",
   "execution_count": null,
   "outputs": [],
   "source": [
    "episode_num = 35\n",
    "cur.execute(f\"SELECT x, y FROM agent_data WHERE run_id = '{run_id}' AND episode = {episode_num};\")\n",
    "coords = cur.fetchall()\n",
    "x = [row[0] for row in coords]\n",
    "y = [row[1] for row in coords]\n",
    "x1 = x[0]\n",
    "y1 = y[0]\n",
    "x2 = x[-1]\n",
    "y2 = y[-1]\n",
    "plt.figure(figsize=(5,5))\n",
    "plt.scatter(x,y, alpha=0.5, s=0.2)\n",
    "plt.scatter(x1,y1, color=\"red\")\n",
    "plt.scatter(x2,y2, color=\"green\")\n",
    "plt.legend([\"Path\", \"Start\", \"End\"])\n",
    "plt.title(f\"Path Taken: Episode {episode_num}\")\n",
    "plt.xlabel(\"x-coord\")\n",
    "plt.ylabel(\"y-coord\")\n",
    "plt.xlim(-2, 2)\n",
    "plt.ylim(-2, 2)\n",
    "plt.show()"
   ],
   "metadata": {
    "collapsed": false
   }
  },
  {
   "cell_type": "code",
   "execution_count": 17,
   "outputs": [],
   "source": [
    "con.close()"
   ],
   "metadata": {
    "collapsed": false,
    "ExecuteTime": {
     "end_time": "2023-08-18T13:55:03.688863803Z",
     "start_time": "2023-08-18T13:55:03.613603462Z"
    }
   }
  }
 ],
 "metadata": {
  "kernelspec": {
   "display_name": "Python 3",
   "language": "python",
   "name": "python3"
  },
  "language_info": {
   "codemirror_mode": {
    "name": "ipython",
    "version": 2
   },
   "file_extension": ".py",
   "mimetype": "text/x-python",
   "name": "python",
   "nbconvert_exporter": "python",
   "pygments_lexer": "ipython2",
   "version": "2.7.6"
  }
 },
 "nbformat": 4,
 "nbformat_minor": 0
}
